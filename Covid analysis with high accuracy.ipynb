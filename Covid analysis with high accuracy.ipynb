{
 "cells": [
  {
   "cell_type": "markdown",
   "id": "5088c65c",
   "metadata": {},
   "source": [
    "Import Libraries"
   ]
  },
  {
   "cell_type": "code",
   "execution_count": null,
   "id": "0e01af8c",
   "metadata": {},
   "outputs": [],
   "source": [
    "import pandas as pd\n",
    "import numpy as np\n",
    "import seaborn as sns\n",
    "import matplotlib.pyplot as plt\n",
    "import plotly.express as px\n",
    "import warnings\n",
    "warnings.filterwarnings('ignore')"
   ]
  },
  {
   "cell_type": "markdown",
   "id": "a761abeb",
   "metadata": {},
   "source": [
    "To avaoid terminating Jupyter notebook running so that ypu can use the terminal to pip install other libraries, add these libraries before you begin.\n",
    ">pip install sklearn\n",
    ">pip install label encoder\n",
    ">pip install scikit-learn\n",
    ">pip install xgboost\n",
    ">pip install mlxtend\n",
    ">pip install imblearn"
   ]
  },
  {
   "cell_type": "code",
   "execution_count": null,
   "id": "55e5fe01",
   "metadata": {},
   "outputs": [],
   "source": [
    "data= pd.read_csv(\"CovidData.csv\")\n",
    "data"
   ]
  },
  {
   "cell_type": "markdown",
   "id": "9434721e",
   "metadata": {},
   "source": [
    "Data Describe"
   ]
  },
  {
   "cell_type": "markdown",
   "id": "98cb472e",
   "metadata": {},
   "source": [
    "Read Data"
   ]
  },
  {
   "cell_type": "code",
   "execution_count": null,
   "id": "ebac8159",
   "metadata": {},
   "outputs": [],
   "source": [
    "data.info()"
   ]
  },
  {
   "cell_type": "code",
   "execution_count": null,
   "id": "185f8c8a",
   "metadata": {},
   "outputs": [],
   "source": [
    "data.describe()"
   ]
  },
  {
   "cell_type": "code",
   "execution_count": null,
   "id": "2dbc9375",
   "metadata": {},
   "outputs": [],
   "source": [
    "data.isnull().sum()"
   ]
  },
  {
   "cell_type": "markdown",
   "id": "8170993f",
   "metadata": {},
   "source": [
    "This does not mean that we do not have a null value because in this data a value of 97,98,99 means that it is a null value, so we will encoding it later"
   ]
  },
  {
   "cell_type": "code",
   "execution_count": null,
   "id": "c497d229",
   "metadata": {
    "scrolled": true
   },
   "outputs": [],
   "source": [
    "df=data.copy()\n",
    "df"
   ]
  },
  {
   "cell_type": "markdown",
   "id": "41d65104",
   "metadata": {},
   "source": [
    "Data Processing and Cleaning"
   ]
  },
  {
   "cell_type": "code",
   "execution_count": null,
   "id": "bcff90e8",
   "metadata": {},
   "outputs": [],
   "source": [
    "df.info()"
   ]
  },
  {
   "cell_type": "code",
   "execution_count": null,
   "id": "5afacf5d",
   "metadata": {},
   "outputs": [],
   "source": [
    "df.hist(bins = 10, figsize= (15,15))\n",
    "plt.show()"
   ]
  },
  {
   "cell_type": "code",
   "execution_count": null,
   "id": "8db2ba3d",
   "metadata": {},
   "outputs": [],
   "source": [
    "df['DATE_DIED'].value_counts()"
   ]
  },
  {
   "cell_type": "markdown",
   "id": "1c2608fa",
   "metadata": {},
   "source": [
    "We need to process this variable. The first needed action is to create a target variable basing on DATE_DIED column."
   ]
  },
  {
   "cell_type": "code",
   "execution_count": null,
   "id": "cbc00a48",
   "metadata": {},
   "outputs": [],
   "source": [
    "df.DATE_DIED[df['DATE_DIED'] != '9999-99-99'] = 1\n",
    "df.DATE_DIED[df['DATE_DIED'] == '9999-99-99'] = 0\n",
    "df.DATE_DIED.value_counts()"
   ]
  },
  {
   "cell_type": "code",
   "execution_count": null,
   "id": "20fac02f",
   "metadata": {},
   "outputs": [],
   "source": [
    "df['DEATH'] = df.DATE_DIED\n",
    "df.head(30)"
   ]
  },
  {
   "cell_type": "code",
   "execution_count": null,
   "id": "201810e5",
   "metadata": {},
   "outputs": [],
   "source": [
    "df['DATE_DIED'].value_counts().plot(kind='bar', title='Count (DATE_DIED)', color=['c', 'b'])"
   ]
  },
  {
   "cell_type": "markdown",
   "id": "866a5d93",
   "metadata": {},
   "source": [
    "Imbalance means we need to process the dataset before modeling."
   ]
  },
  {
   "cell_type": "code",
   "execution_count": null,
   "id": "5e6bd6da",
   "metadata": {},
   "outputs": [],
   "source": [
    "df.drop(columns=[\"DATE_DIED\"], inplace=True)"
   ]
  },
  {
   "cell_type": "markdown",
   "id": "b014aa54",
   "metadata": {},
   "source": [
    "Drop \"DATE_DIED\" column because we will use \"DEATH\" feature."
   ]
  },
  {
   "cell_type": "code",
   "execution_count": null,
   "id": "18bcc58a",
   "metadata": {},
   "outputs": [],
   "source": [
    "df.columns"
   ]
  },
  {
   "cell_type": "markdown",
   "id": "ea907181",
   "metadata": {},
   "source": [
    "df['SEX'].value_counts()"
   ]
  },
  {
   "cell_type": "code",
   "execution_count": null,
   "id": "9ffe2c28",
   "metadata": {},
   "outputs": [],
   "source": [
    "df['SEX'].replace({1:'Female', 2:'Male'}, inplace = True)"
   ]
  },
  {
   "cell_type": "code",
   "execution_count": null,
   "id": "63610efb",
   "metadata": {},
   "outputs": [],
   "source": [
    "df.groupby(['SEX', 'PREGNANT'])['PREGNANT'].count()"
   ]
  },
  {
   "cell_type": "markdown",
   "id": "cdc45d82",
   "metadata": {},
   "source": [
    "PREGNANT value equals to 97 for every string for male sex. So every man has the value 97 in PREGNANT column due to the fact that men can't be pregnant. It means that we can replace this value by 0. We see that when doctors don't have any info about women pregnancy they put 98 value to the PREGNANT column"
   ]
  },
  {
   "cell_type": "code",
   "execution_count": null,
   "id": "4b93ad0b",
   "metadata": {},
   "outputs": [],
   "source": [
    "df[\"PREGNANT\"].replace({97: 0, 98 : np.nan}, inplace= True)"
   ]
  },
  {
   "cell_type": "code",
   "execution_count": null,
   "id": "908daea8",
   "metadata": {},
   "outputs": [],
   "source": [
    "df.groupby(['SEX', 'PREGNANT'])['PREGNANT'].count()"
   ]
  },
  {
   "cell_type": "code",
   "execution_count": null,
   "id": "8b6b272e",
   "metadata": {},
   "outputs": [],
   "source": [
    "df['PREGNANT'].isnull().sum()"
   ]
  },
  {
   "cell_type": "markdown",
   "id": "62178f6c",
   "metadata": {},
   "source": [
    "If the Boolean feature equals to \"2\" it means that the boolean value is \"No\". Let's replace all them by \"0\" for all features to have more clear form of the dataset."
   ]
  },
  {
   "cell_type": "code",
   "execution_count": null,
   "id": "4f55ddc8",
   "metadata": {},
   "outputs": [],
   "source": [
    "df['USMER'].replace(2.0, 0, inplace=True)\n",
    "df['SEX'].replace(2.0, 0, inplace=True)\n",
    "df['PATIENT_TYPE'].replace(2.0, 0, inplace=True)\n",
    "df['INTUBED'].replace(2.0, 0, inplace=True)\n",
    "df['PNEUMONIA'].replace(2.0, 0, inplace=True)\n",
    "df['PREGNANT'].replace(2.0, 0, inplace=True)\n",
    "df['DIABETES'].replace(2.0, 0, inplace=True)\n",
    "df['COPD'].replace(2.0, 0, inplace=True)\n",
    "df['ASTHMA'].replace(2.0, 0, inplace=True)\n",
    "df['INMSUPR'].replace(2.0, 0, inplace=True)\n",
    "df['HIPERTENSION'].replace(2.0, 0, inplace=True)\n",
    "df['OTHER_DISEASE'].replace(2.0, 0, inplace=True)\n",
    "df['CARDIOVASCULAR'].replace(2.0, 0, inplace=True)\n",
    "df['OBESITY'].replace(2.0, 0, inplace=True)\n",
    "df['RENAL_CHRONIC'].replace(2.0, 0, inplace=True)\n",
    "df['TOBACCO'].replace(2.0, 0, inplace=True)\n",
    "df['ICU'].replace(2.0, 0, inplace=True)"
   ]
  },
  {
   "cell_type": "markdown",
   "id": "01e5a613",
   "metadata": {},
   "source": [
    "1 means \"yes\" and 0 means \"no\". values as 97 and 99 are named nan= (missing data)"
   ]
  },
  {
   "cell_type": "code",
   "execution_count": null,
   "id": "5086bfcd",
   "metadata": {},
   "outputs": [],
   "source": [
    "df['TOBACCO'].value_counts()"
   ]
  },
  {
   "cell_type": "code",
   "execution_count": null,
   "id": "3f04e05d",
   "metadata": {},
   "outputs": [],
   "source": [
    "df['PATIENT_TYPE'].replace({1:'hospitalized', 0:'not hospitalized'}, inplace = True)"
   ]
  },
  {
   "cell_type": "code",
   "execution_count": null,
   "id": "cd0224a6",
   "metadata": {},
   "outputs": [],
   "source": [
    "df['PATIENT_TYPE'].value_counts()"
   ]
  },
  {
   "cell_type": "code",
   "execution_count": null,
   "id": "505f6872",
   "metadata": {},
   "outputs": [],
   "source": [
    "df.replace([97,98, 99], np.nan, inplace = True)"
   ]
  },
  {
   "cell_type": "markdown",
   "id": "5391a6c0",
   "metadata": {},
   "source": [
    "Number of null values in each column can now be seen"
   ]
  },
  {
   "cell_type": "markdown",
   "id": "bc4da7b7",
   "metadata": {},
   "source": [
    "Missing Values Analysis"
   ]
  },
  {
   "cell_type": "code",
   "execution_count": null,
   "id": "ec990501",
   "metadata": {
    "scrolled": true
   },
   "outputs": [],
   "source": [
    "df.isnull().sum()"
   ]
  },
  {
   "cell_type": "code",
   "execution_count": null,
   "id": "f01b4928",
   "metadata": {
    "scrolled": true
   },
   "outputs": [],
   "source": [
    "sns.heatmap( df.isnull(),cmap=sns.cubehelix_palette(as_cmap=True))"
   ]
  },
  {
   "cell_type": "markdown",
   "id": "8cbd0da1",
   "metadata": {},
   "source": [
    "Drop the columns with > 80% Missing"
   ]
  },
  {
   "cell_type": "code",
   "execution_count": null,
   "id": "ae12011b",
   "metadata": {},
   "outputs": [],
   "source": [
    "df.drop(columns=[\"INTUBED\",\"ICU\"], inplace=True)"
   ]
  },
  {
   "cell_type": "code",
   "execution_count": null,
   "id": "4443010f",
   "metadata": {},
   "outputs": [],
   "source": [
    "df.isnull().sum()"
   ]
  },
  {
   "cell_type": "code",
   "execution_count": null,
   "id": "904b0b24",
   "metadata": {},
   "outputs": [],
   "source": [
    "fill_list = df['PNEUMONIA'].dropna()\n",
    "df['PNEUMONIA'] = df['PNEUMONIA'].fillna(pd.Series(np.random.choice(fill_list , size = len(df.index))))"
   ]
  },
  {
   "cell_type": "code",
   "execution_count": null,
   "id": "514c8a1c",
   "metadata": {},
   "outputs": [],
   "source": [
    "fill_list = df['AGE'].dropna()\n",
    "df['AGE'] = df['AGE'].fillna(pd.Series(np.random.choice(fill_list , size = len(df.index))))"
   ]
  },
  {
   "cell_type": "code",
   "execution_count": null,
   "id": "f6f00356",
   "metadata": {},
   "outputs": [],
   "source": [
    "fill_list = df['PREGNANT'].dropna()\n",
    "df['PREGNANT'] = df['PREGNANT'].fillna(pd.Series(np.random.choice(fill_list , size = len(df.index))))"
   ]
  },
  {
   "cell_type": "code",
   "execution_count": null,
   "id": "c940a0d6",
   "metadata": {},
   "outputs": [],
   "source": [
    "fill_list = df['DIABETES'].dropna()\n",
    "df['DIABETES'] = df['DIABETES'].fillna(pd.Series(np.random.choice(fill_list , size = len(df.index))))"
   ]
  },
  {
   "cell_type": "code",
   "execution_count": null,
   "id": "2cd069d3",
   "metadata": {},
   "outputs": [],
   "source": [
    "fill_list = df['COPD'].dropna()\n",
    "df['COPD'] = df['COPD'].fillna(pd.Series(np.random.choice(fill_list , size = len(df.index))))"
   ]
  },
  {
   "cell_type": "code",
   "execution_count": null,
   "id": "66f4dbe0",
   "metadata": {},
   "outputs": [],
   "source": [
    "fill_list = df['ASTHMA'].dropna()\n",
    "df['ASTHMA'] = df['ASTHMA'].fillna(pd.Series(np.random.choice(fill_list , size = len(df.index))))"
   ]
  },
  {
   "cell_type": "code",
   "execution_count": null,
   "id": "2a4fddfa",
   "metadata": {},
   "outputs": [],
   "source": [
    "fill_list = df['INMSUPR'].dropna()\n",
    "df['INMSUPR'] = df['INMSUPR'].fillna(pd.Series(np.random.choice(fill_list , size = len(df.index))))"
   ]
  },
  {
   "cell_type": "code",
   "execution_count": null,
   "id": "b848c69f",
   "metadata": {},
   "outputs": [],
   "source": [
    "fill_list = df['HIPERTENSION'].dropna()\n",
    "df['HIPERTENSION'] = df['HIPERTENSION'].fillna(pd.Series(np.random.choice(fill_list , size = len(df.index))))"
   ]
  },
  {
   "cell_type": "code",
   "execution_count": null,
   "id": "0486ebf0",
   "metadata": {},
   "outputs": [],
   "source": [
    "fill_list = df['OTHER_DISEASE'].dropna()\n",
    "df['OTHER_DISEASE'] = df['OTHER_DISEASE'].fillna(pd.Series(np.random.choice(fill_list , size = len(df.index))))"
   ]
  },
  {
   "cell_type": "code",
   "execution_count": null,
   "id": "825deba9",
   "metadata": {},
   "outputs": [],
   "source": [
    "fill_list = df['CARDIOVASCULAR'].dropna()\n",
    "df['CARDIOVASCULAR'] = df['CARDIOVASCULAR'].fillna(pd.Series(np.random.choice(fill_list , size = len(df.index))))"
   ]
  },
  {
   "cell_type": "code",
   "execution_count": null,
   "id": "03dd5ed9",
   "metadata": {},
   "outputs": [],
   "source": [
    "fill_list = df['OBESITY'].dropna()\n",
    "df['OBESITY'] = df['OBESITY'].fillna(pd.Series(np.random.choice(fill_list , size = len(df.index))))"
   ]
  },
  {
   "cell_type": "code",
   "execution_count": null,
   "id": "e2041d22",
   "metadata": {},
   "outputs": [],
   "source": [
    "fill_list = df['RENAL_CHRONIC'].dropna()\n",
    "df['RENAL_CHRONIC'] = df['RENAL_CHRONIC'].fillna(pd.Series(np.random.choice(fill_list , size = len(df.index))))"
   ]
  },
  {
   "cell_type": "code",
   "execution_count": null,
   "id": "646fa12d",
   "metadata": {},
   "outputs": [],
   "source": [
    "fill_list = df['TOBACCO'].dropna()\n",
    "df['TOBACCO'] = df['TOBACCO'].fillna(pd.Series(np.random.choice(fill_list , size = len(df.index))))"
   ]
  },
  {
   "cell_type": "code",
   "execution_count": null,
   "id": "60bf0fe5",
   "metadata": {},
   "outputs": [],
   "source": [
    "df.isnull().sum()"
   ]
  },
  {
   "cell_type": "code",
   "execution_count": null,
   "id": "f4b9b221",
   "metadata": {},
   "outputs": [],
   "source": [
    "df.dropna(subset=['PNEUMONIA'],inplace=True)"
   ]
  },
  {
   "cell_type": "code",
   "execution_count": null,
   "id": "023e14a5",
   "metadata": {},
   "outputs": [],
   "source": [
    "df.isnull().sum()"
   ]
  },
  {
   "cell_type": "markdown",
   "id": "d669d449",
   "metadata": {},
   "source": [
    "Data Visualization"
   ]
  },
  {
   "cell_type": "code",
   "execution_count": null,
   "id": "7d04b68b",
   "metadata": {},
   "outputs": [],
   "source": [
    "df.columns"
   ]
  },
  {
   "cell_type": "code",
   "execution_count": null,
   "id": "7c1bed10",
   "metadata": {},
   "outputs": [],
   "source": [
    "df['SEX'].value_counts()"
   ]
  },
  {
   "cell_type": "code",
   "execution_count": null,
   "id": "e22be24e",
   "metadata": {},
   "outputs": [],
   "source": [
    "import plotly.graph_objects as go\n",
    "\n",
    "labels = ['Female','Male']\n",
    "values = [516418, 516154]\n",
    "\n",
    "# Use `hole` to create a donut-like pie chart\n",
    "fig = go.Figure(data=[go.Pie(labels=labels, values=values, hole=.3)])\n",
    "fig.show()"
   ]
  },
  {
   "cell_type": "markdown",
   "id": "5d10a9b8",
   "metadata": {},
   "source": [
    "The percentage of females and males is fifty fifty"
   ]
  },
  {
   "cell_type": "code",
   "execution_count": null,
   "id": "6b3ea910",
   "metadata": {},
   "outputs": [],
   "source": [
    "sns.histplot(x=df.AGE)\n",
    "plt.title(\"Age Distribution\", color=\"blue\", fontsize=15);"
   ]
  },
  {
   "cell_type": "markdown",
   "id": "915d847d",
   "metadata": {},
   "source": [
    "Patients are roughly between 20-60 years old"
   ]
  },
  {
   "cell_type": "code",
   "execution_count": null,
   "id": "9d195e6f",
   "metadata": {},
   "outputs": [],
   "source": [
    "plt.figure(figsize = (15, 15))\n",
    "sns.histplot(x = 'AGE', hue = 'DEATH', data = df , kde=True )"
   ]
  },
  {
   "cell_type": "markdown",
   "id": "2e2075ea",
   "metadata": {},
   "source": [
    "The older patients are more likely to die compare to younger ones"
   ]
  },
  {
   "cell_type": "code",
   "execution_count": null,
   "id": "1260aa70",
   "metadata": {},
   "outputs": [],
   "source": [
    "df['CLASIFFICATION_FINAL'].value_counts()"
   ]
  },
  {
   "cell_type": "code",
   "execution_count": null,
   "id": "e1588f18",
   "metadata": {},
   "outputs": [],
   "source": [
    "labels = ['7.0','3.0','6.0','5.0','1.0','4.0','2.0']\n",
    "values = [492951, 381523, 118923, 25612,8601,3111,1851]\n",
    "\n",
    "# pull is given as a fraction of the pie radius\n",
    "fig = go.Figure(data=[go.Pie(labels=labels, values=values, pull=[0, 0, 0.2, 0])])\n",
    "fig.show()"
   ]
  },
  {
   "cell_type": "markdown",
   "id": "e383d992",
   "metadata": {},
   "source": [
    "classification_final: covid test findings. Values 1-3 mean that the patient was diagnosed with covid in different degrees. 4 or higher means that the patient is not a carrier of covid or that the test is inconclusive."
   ]
  },
  {
   "cell_type": "code",
   "execution_count": null,
   "id": "377dc798",
   "metadata": {
    "scrolled": true
   },
   "outputs": [],
   "source": [
    "sns.barplot(data=df, x=\"PATIENT_TYPE\", y=\"AGE\")"
   ]
  },
  {
   "cell_type": "markdown",
   "id": "65eb1199",
   "metadata": {},
   "source": [
    "The percentage of patients who went to the hospital is less than those who did not go, and the most likely patients to go to the hospital are the oldest"
   ]
  },
  {
   "cell_type": "code",
   "execution_count": null,
   "id": "4e233c25",
   "metadata": {},
   "outputs": [],
   "source": [
    "df['PATIENT_TYPE'].replace({1:'hospitalized', 0:'not hospitalized'}, inplace = True)"
   ]
  },
  {
   "cell_type": "code",
   "execution_count": null,
   "id": "1fe1a956",
   "metadata": {},
   "outputs": [],
   "source": [
    "df['CLASIFFICATION_FINAL'].replace([1,2,3,4,5,6,7],['patient was diagnosed with covid in different degrees','patient was diagnosed with covid in different degrees','patient was diagnosed with covid in different degrees','the patient is not a carrier of covid or that the test is inconclusive.','the patient is not a carrier of covid or that the test is inconclusive.','the patient is not a carrier of covid or that the test is inconclusive','the patient is not a carrier of covid or that the test is inconclusive.'],inplace=True)"
   ]
  },
  {
   "cell_type": "code",
   "execution_count": null,
   "id": "b9fdcc83",
   "metadata": {
    "scrolled": true
   },
   "outputs": [],
   "source": [
    "df['CLASIFFICATION_FINAL'].value_counts()"
   ]
  },
  {
   "cell_type": "code",
   "execution_count": null,
   "id": "68fe7f7d",
   "metadata": {},
   "outputs": [],
   "source": [
    "fig = px.pie(df, names='CLASIFFICATION_FINAL', title='CLASIFFICATION_FINAL',color_discrete_sequence=px.colors.sequential.RdBu)\n",
    "fig.show()"
   ]
  },
  {
   "cell_type": "code",
   "execution_count": null,
   "id": "5e8dd6fd",
   "metadata": {},
   "outputs": [],
   "source": [
    "sns.histplot(data=df, x=\"DIABETES\", kde=False)"
   ]
  },
  {
   "cell_type": "code",
   "execution_count": null,
   "id": "733a8622",
   "metadata": {},
   "outputs": [],
   "source": [
    "sns.countplot(data=df, x=\"DIABETES\", hue=\"DEATH\")"
   ]
  },
  {
   "cell_type": "code",
   "execution_count": null,
   "id": "3defe887",
   "metadata": {
    "scrolled": true
   },
   "outputs": [],
   "source": [
    "sns.countplot(data=df, y=\"HIPERTENSION\", hue=\"DEATH\")"
   ]
  },
  {
   "cell_type": "markdown",
   "id": "fa4ec591",
   "metadata": {},
   "source": [
    "The number of people infected with the Corona virus who suffer from hipertension is more likely to die than those who do not have hipertension"
   ]
  },
  {
   "cell_type": "code",
   "execution_count": null,
   "id": "f756f56c",
   "metadata": {
    "scrolled": false
   },
   "outputs": [],
   "source": [
    "sns.stripplot(data=df, x=\"DEATH\", y=\"AGE\")"
   ]
  },
  {
   "cell_type": "code",
   "execution_count": null,
   "id": "30292a27",
   "metadata": {
    "scrolled": true
   },
   "outputs": [],
   "source": [
    "sns.catplot(\n",
    "    data=df, x=\"SEX\", y=\"AGE\", col=\"DEATH\",\n",
    "    kind=\"bar\", height=4, aspect=.8,\n",
    ")"
   ]
  },
  {
   "cell_type": "markdown",
   "id": "dea69554",
   "metadata": {},
   "source": [
    "The percentage of those who died from the Corona virus is equal between male and female"
   ]
  },
  {
   "cell_type": "code",
   "execution_count": null,
   "id": "d49d8b74",
   "metadata": {
    "scrolled": false
   },
   "outputs": [],
   "source": [
    "pd.crosstab(df.RENAL_CHRONIC, df.DEATH).plot(kind=\"bar\", figsize=(10,6), color=[\"salmon\",\"lightblue\"])\n",
    "plt.title(\"Analyzing death rate whether patient has RENAL_CHRONIC \")\n",
    "plt.xlabel(\"RENAL_CHRONIC\")\n",
    "plt.ylabel(\"Patient Count\")\n",
    "plt.legend([\"Dead\", \"Not Dead\"])\n",
    "plt.xticks(rotation=0);"
   ]
  },
  {
   "cell_type": "markdown",
   "id": "964a2a55",
   "metadata": {},
   "source": [
    "The number of patients who died from the Corona virus while suffering from Renal chronic is more than those who died from the Corona virus without suffering from Renal chronic"
   ]
  },
  {
   "cell_type": "code",
   "execution_count": null,
   "id": "563f3d97",
   "metadata": {
    "scrolled": true
   },
   "outputs": [],
   "source": [
    "sns.countplot(data=df, x=\"ASTHMA\", hue=\"DEATH\")"
   ]
  },
  {
   "cell_type": "markdown",
   "id": "cc8b0a3f",
   "metadata": {},
   "source": [
    "The number of patients who died from the Corona virus while suffering from ASTHMA is more than those who died from the Corona virus without suffering from ASTHMA"
   ]
  },
  {
   "cell_type": "code",
   "execution_count": null,
   "id": "8f159abb",
   "metadata": {},
   "outputs": [],
   "source": [
    "sns.catplot(\n",
    "    data=df, x=\"PREGNANT\", y=\"AGE\", col=\"CLASIFFICATION_FINAL\",\n",
    "    kind=\"bar\", height=4, aspect=.9,\n",
    ")"
   ]
  },
  {
   "cell_type": "markdown",
   "id": "9d0e153d",
   "metadata": {},
   "source": [
    "The probability of people infected with the Corona virus while they are pregnant is higher than those who are not pregnant, and the older they are, the greater the risk"
   ]
  },
  {
   "cell_type": "code",
   "execution_count": null,
   "id": "219a0fec",
   "metadata": {
    "scrolled": true
   },
   "outputs": [],
   "source": [
    "pd.crosstab(df.COPD, df.DEATH).plot(kind=\"bar\", figsize=(10,6), color=[\"salmon\",\"lightblue\"])\n",
    "plt.title(\"Analyzing death rate whether patient has COPD \")\n",
    "plt.xlabel(\"COPD\")\n",
    "plt.ylabel(\"Patient Count\")\n",
    "plt.legend([\"Dead\", \"Not Dead\"])\n",
    "plt.xticks(rotation=0);"
   ]
  },
  {
   "cell_type": "markdown",
   "id": "da992ca7",
   "metadata": {},
   "source": [
    "Most patients with Copd who contracted the coronavirus have died Copd :is a condition involving constriction of the airways and difficulty or discomfort in breathing."
   ]
  },
  {
   "cell_type": "markdown",
   "id": "40dea759",
   "metadata": {},
   "source": [
    "Encoding the object dataset"
   ]
  },
  {
   "cell_type": "code",
   "execution_count": null,
   "id": "c51bb320",
   "metadata": {
    "scrolled": false
   },
   "outputs": [],
   "source": [
    "df.describe(include=object)"
   ]
  },
  {
   "cell_type": "code",
   "execution_count": null,
   "id": "234fb219",
   "metadata": {},
   "outputs": [],
   "source": [
    "from sklearn.preprocessing import LabelEncoder\n",
    "le = LabelEncoder()"
   ]
  },
  {
   "cell_type": "code",
   "execution_count": null,
   "id": "a8fb0615",
   "metadata": {},
   "outputs": [],
   "source": [
    "cols = ['SEX', 'PATIENT_TYPE', 'CLASIFFICATION_FINAL']\n",
    "\n",
    "df[cols] = df[cols].apply(LabelEncoder().fit_transform)"
   ]
  },
  {
   "cell_type": "code",
   "execution_count": null,
   "id": "1332cb23",
   "metadata": {},
   "outputs": [],
   "source": [
    "df.info()"
   ]
  },
  {
   "cell_type": "markdown",
   "id": "f70e4b5b",
   "metadata": {},
   "source": [
    "Future Selection"
   ]
  },
  {
   "cell_type": "code",
   "execution_count": null,
   "id": "29d3ab6a",
   "metadata": {
    "scrolled": true
   },
   "outputs": [],
   "source": [
    "plt.figure(figsize = (20,10))\n",
    "sns.heatmap(df.corr() , annot = True , cmap = \"flare\")"
   ]
  },
  {
   "cell_type": "markdown",
   "id": "72e856cb",
   "metadata": {},
   "source": [
    "Train Test Split"
   ]
  },
  {
   "cell_type": "markdown",
   "id": "a4fa410a",
   "metadata": {},
   "source": [
    "df.drop([\"SEX\",\"PREGNANT\",\"COPD\",\"ASTHMA\",\"INMSUPR\",\"OTHER_DISEASE\",\"CARDIOVASCULAR\",],axis=1,inplace=True)"
   ]
  },
  {
   "cell_type": "code",
   "execution_count": null,
   "id": "cdb9b433",
   "metadata": {},
   "outputs": [],
   "source": [
    "x=df.drop('DEATH',axis=1).values\n",
    "y=df['DEATH'].values"
   ]
  },
  {
   "cell_type": "code",
   "execution_count": null,
   "id": "b1260fe0",
   "metadata": {},
   "outputs": [],
   "source": [
    "from sklearn.model_selection import train_test_split"
   ]
  },
  {
   "cell_type": "code",
   "execution_count": null,
   "id": "8823042e",
   "metadata": {},
   "outputs": [],
   "source": [
    "x_train , x_test , y_train , y_test = train_test_split(x,y, test_size=0.8, random_state=42)"
   ]
  },
  {
   "cell_type": "markdown",
   "id": "2d9f1198",
   "metadata": {},
   "source": [
    "Dealing with imbalnce in our targer column"
   ]
  },
  {
   "cell_type": "raw",
   "id": "f554bbcb",
   "metadata": {},
   "source": [
    "RandomUnderSampler"
   ]
  },
  {
   "cell_type": "code",
   "execution_count": null,
   "id": "91035b1b",
   "metadata": {},
   "outputs": [],
   "source": [
    "from imblearn.under_sampling import RandomUnderSampler\n",
    "X_under, y_under = RandomUnderSampler().fit_resample(x,y)\n",
    "print(X_under.shape, y_under.shape)"
   ]
  },
  {
   "cell_type": "markdown",
   "id": "38984129",
   "metadata": {},
   "source": [
    "Train Test Split After Undersampling"
   ]
  },
  {
   "cell_type": "code",
   "execution_count": null,
   "id": "20ee67b4",
   "metadata": {},
   "outputs": [],
   "source": [
    "x_train , x_test , y_train , y_test = train_test_split(X_under, y_under , test_size=0.8, random_state=42)"
   ]
  },
  {
   "cell_type": "markdown",
   "id": "afe83cb3",
   "metadata": {},
   "source": [
    "Modeling"
   ]
  },
  {
   "cell_type": "markdown",
   "id": "115f5174",
   "metadata": {},
   "source": [
    "RandomForestClassifier"
   ]
  },
  {
   "cell_type": "code",
   "execution_count": null,
   "id": "85adc4b1",
   "metadata": {},
   "outputs": [],
   "source": [
    "from sklearn.ensemble import RandomForestClassifier"
   ]
  },
  {
   "cell_type": "code",
   "execution_count": null,
   "id": "5348d864",
   "metadata": {
    "scrolled": true
   },
   "outputs": [],
   "source": [
    "rf = RandomForestClassifier(max_depth=7 , max_features=3,n_estimators= 100)\n",
    "rf.fit(x_train, y_train)"
   ]
  },
  {
   "cell_type": "code",
   "execution_count": null,
   "id": "fb7a1fff",
   "metadata": {},
   "outputs": [],
   "source": [
    "rf.score(x_train, y_train)"
   ]
  },
  {
   "cell_type": "code",
   "execution_count": null,
   "id": "c01e9a9d",
   "metadata": {},
   "outputs": [],
   "source": [
    "rf.score(x_test,y_test)"
   ]
  },
  {
   "cell_type": "markdown",
   "id": "8de0f0d2",
   "metadata": {},
   "source": [
    "Model Evaluation"
   ]
  },
  {
   "cell_type": "code",
   "execution_count": null,
   "id": "ce6b5ab1",
   "metadata": {},
   "outputs": [],
   "source": [
    "from sklearn.metrics import confusion_matrix , classification_report"
   ]
  },
  {
   "cell_type": "code",
   "execution_count": null,
   "id": "0653c323",
   "metadata": {},
   "outputs": [],
   "source": [
    "v = confusion_matrix(y_test , rf.predict(x_test))\n",
    "v"
   ]
  },
  {
   "cell_type": "code",
   "execution_count": null,
   "id": "35c32639",
   "metadata": {},
   "outputs": [],
   "source": [
    "from mlxtend.plotting import plot_confusion_matrix\n",
    "plot_confusion_matrix(v , class_names=[\"1\" , \"0\"])"
   ]
  },
  {
   "cell_type": "code",
   "execution_count": null,
   "id": "210bf363",
   "metadata": {},
   "outputs": [],
   "source": [
    "print (classification_report(y_test  , rf.predict(x_test)))"
   ]
  },
  {
   "cell_type": "code",
   "execution_count": null,
   "id": "344477c8",
   "metadata": {},
   "outputs": [],
   "source": [
    "from sklearn.metrics import RocCurveDisplay"
   ]
  },
  {
   "cell_type": "code",
   "execution_count": null,
   "id": "0e3ce7cf",
   "metadata": {},
   "outputs": [],
   "source": [
    "RocCurveDisplay.from_estimator(rf, x_test, y_test)"
   ]
  },
  {
   "cell_type": "markdown",
   "id": "bb71f4c9",
   "metadata": {},
   "source": [
    "XGBOOST"
   ]
  },
  {
   "cell_type": "code",
   "execution_count": null,
   "id": "35f0c538",
   "metadata": {},
   "outputs": [],
   "source": [
    "from xgboost import XGBClassifier"
   ]
  },
  {
   "cell_type": "code",
   "execution_count": null,
   "id": "0d3efae4",
   "metadata": {},
   "outputs": [],
   "source": [
    "xgb = XGBClassifier(n_estimators= 5 , max_depth= 3 , max_features=4)"
   ]
  },
  {
   "cell_type": "code",
   "execution_count": null,
   "id": "b1d85960",
   "metadata": {},
   "outputs": [],
   "source": [
    "xgb.fit(x_train , y_train)"
   ]
  },
  {
   "cell_type": "code",
   "execution_count": null,
   "id": "617cde35",
   "metadata": {},
   "outputs": [],
   "source": [
    "print (xgb.score(x_train , y_train))\n",
    "print (xgb.score(x_test , y_test))"
   ]
  },
  {
   "cell_type": "code",
   "execution_count": null,
   "id": "3fec917e",
   "metadata": {},
   "outputs": [],
   "source": [
    "v = confusion_matrix(y_test , xgb.predict(x_test))\n",
    "v"
   ]
  },
  {
   "cell_type": "code",
   "execution_count": null,
   "id": "5419c1a8",
   "metadata": {},
   "outputs": [],
   "source": [
    "from mlxtend.plotting import plot_confusion_matrix\n",
    "plot_confusion_matrix(v , class_names=[\"1\" , \"0\"])"
   ]
  },
  {
   "cell_type": "code",
   "execution_count": null,
   "id": "1195d35e",
   "metadata": {},
   "outputs": [],
   "source": [
    "print (classification_report(y_test  , xgb.predict(x_test)))"
   ]
  },
  {
   "cell_type": "code",
   "execution_count": null,
   "id": "7c2601d0",
   "metadata": {},
   "outputs": [],
   "source": [
    "RocCurveDisplay.from_estimator(xgb , x_test , y_test)"
   ]
  },
  {
   "cell_type": "code",
   "execution_count": null,
   "id": "df517d66",
   "metadata": {},
   "outputs": [],
   "source": [
    "from sklearn.model_selection import KFold , cross_val_score\n",
    "K_fold = KFold(n_splits=10 , shuffle= True , random_state= 42)"
   ]
  },
  {
   "cell_type": "code",
   "execution_count": null,
   "id": "35e651bc",
   "metadata": {
    "scrolled": true
   },
   "outputs": [],
   "source": [
    "scoring = \"accuracy\"\n",
    "score = cross_val_score(xgb ,X_under, y_under , cv = K_fold , scoring=scoring )\n",
    "print (score)"
   ]
  },
  {
   "cell_type": "code",
   "execution_count": null,
   "id": "84fc4113",
   "metadata": {},
   "outputs": [],
   "source": [
    "round(np.mean(score)*100 , 2)"
   ]
  },
  {
   "cell_type": "markdown",
   "id": "5f41b2e4",
   "metadata": {},
   "source": [
    "Conclusion\n",
    "\n",
    "I utilized both the Random Forest algorithm and XGBoost algorithm, both of which yielded high accuracy. However, I encountered an issue of overfitting. In order to address this problem, I employed cross-validation."
   ]
  }
 ],
 "metadata": {
  "kernelspec": {
   "display_name": "Python 3 (ipykernel)",
   "language": "python",
   "name": "python3"
  },
  "language_info": {
   "codemirror_mode": {
    "name": "ipython",
    "version": 3
   },
   "file_extension": ".py",
   "mimetype": "text/x-python",
   "name": "python",
   "nbconvert_exporter": "python",
   "pygments_lexer": "ipython3",
   "version": "3.11.2"
  }
 },
 "nbformat": 4,
 "nbformat_minor": 5
}
